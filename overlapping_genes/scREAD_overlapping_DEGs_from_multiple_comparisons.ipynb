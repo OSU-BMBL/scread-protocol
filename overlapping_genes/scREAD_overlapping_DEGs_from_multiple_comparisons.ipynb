{
  "nbformat": 4,
  "nbformat_minor": 0,
  "metadata": {
    "colab": {
      "name": "scREAD overlapping DEGs from multiple comparisons",
      "provenance": [],
      "collapsed_sections": []
    },
    "kernelspec": {
      "display_name": "R",
      "name": "ir"
    }
  },
  "cells": [
    {
      "cell_type": "markdown",
      "metadata": {
        "id": "tU-p9Jki-dWG"
      },
      "source": [
        "This notebook is a section to the protocol, *Use of scREAD to Explore and Analyze Single-cell and Single-nucleus RNA-Seq data for Alzheimer’s Disease*\r\n",
        "\r\n",
        "If you have any questions or feedback regarding this notebook, please contact Cankun Wang <cankun.wang@osumc.edu>."
      ]
    },
    {
      "cell_type": "markdown",
      "metadata": {
        "id": "SCQEG4YV-tmD"
      },
      "source": [
        "## Outline \r\n",
        "\r\n",
        "0. How to use this notebook\r\n",
        "1. Background\r\n",
        "2. Install dependencies and curate the data from scREAD\r\n",
        "3. Specify parameters settings \r\n",
        "4. Interpret the result table"
      ]
    },
    {
      "cell_type": "markdown",
      "metadata": {
        "id": "14UbSD_U_CHv"
      },
      "source": [
        "## 0. How to use this notebook\r\n",
        "This notebook utilizes Google Colab , which is an interactive computational enviroment that combines live code, visualizations, and explanatory text. To run this notebook, you may first need to make a copy by choosing File > Save a Copy in Drive from the menu bar (may take a few moments to save).\r\n",
        "\r\n",
        "The notebook is organized into a series of cells. You can modify the R command and execute each cell as you would a Jupyter notebook/R notebook. To run all of the cells at once, choose **Runtime > Run all** from the menu bar."
      ]
    },
    {
      "cell_type": "markdown",
      "metadata": {
        "id": "Th830cNz_P1Z"
      },
      "source": [
        "## 1. Background\r\n",
        "\r\n",
        "The notebook provide table to mainly answer the question:\r\n",
        "\r\n",
        "For all differentially expressed genes (DEGs) in Alzheimer’s Disease (AD) vs control datasets comparisons at a cell type of interest from scREAD, what genes are commanly ranked at top positions by the log-foldchanges? "
      ]
    },
    {
      "cell_type": "markdown",
      "metadata": {
        "id": "qOjS5Ugv8jiV"
      },
      "source": [
        "## 2. Install dependencies and curate the data from scREAD\r\n",
        "\r\n",
        "First, let's install some necessary dependencies in this project, this should take about **10 minutes**:"
      ]
    },
    {
      "cell_type": "markdown",
      "metadata": {
        "id": "OXw0k8nBkpHP"
      },
      "source": [
        ""
      ]
    },
    {
      "cell_type": "code",
      "metadata": {
        "colab": {
          "base_uri": "https://localhost:8080/"
        },
        "id": "VNwzbCdQ5Hq8",
        "outputId": "f1d1eb66-5d55-4b22-8209-d361bb8f0b1c"
      },
      "source": [
        "install.packages('RVenn', repos='http://cran.rstudio.com/')\r\n",
        "install.packages('rlist', repos='http://cran.rstudio.com/')"
      ],
      "execution_count": 1,
      "outputs": [
        {
          "output_type": "stream",
          "text": [
            "Installing package into ‘/usr/local/lib/R/site-library’\n",
            "(as ‘lib’ is unspecified)\n",
            "\n",
            "also installing the dependencies ‘tweenr’, ‘polyclip’, ‘RcppEigen’, ‘permute’, ‘ggforce’, ‘vegan’, ‘pheatmap’\n",
            "\n",
            "\n",
            "Installing package into ‘/usr/local/lib/R/site-library’\n",
            "(as ‘lib’ is unspecified)\n",
            "\n",
            "also installing the dependencies ‘XML’, ‘data.table’\n",
            "\n",
            "\n"
          ],
          "name": "stderr"
        }
      ]
    },
    {
      "cell_type": "markdown",
      "metadata": {
        "id": "sxIZlHAN-LCE"
      },
      "source": [
        "Next, we will load the R packages, scREAD data (~70MB), and pre-defined functions to calculate the overlapping genes:"
      ]
    },
    {
      "cell_type": "code",
      "metadata": {
        "colab": {
          "base_uri": "https://localhost:8080/"
        },
        "id": "bMF_kFRn4O0B",
        "outputId": "84a40949-f5dd-404b-f0a0-68f374f0cba0"
      },
      "source": [
        "\r\n",
        "library(tidyverse)\r\n",
        "library(RVenn)\r\n",
        "library(rlist)\r\n",
        "library(knitr)\r\n",
        "\r\n",
        "## Load data from GitHub or use the alternative server\r\n",
        "\r\n",
        "tryCatch({\r\n",
        "  load(url('https://raw.githubusercontent.com/OSU-BMBL/scread-protocol/master/overlapping_genes/scread_db.rdata'))\r\n",
        "}, error= function(e) {\r\n",
        "   message(\"Failed to load data from GitHub , trying alternative server...\")\r\n",
        "   load(url('https://bmbl.bmi.osumc.edu/downloadFiles/scread/protocol/scread_db.rdata'))\r\n",
        "})\r\n",
        "## The scread_db.rdata contains scREAD database DEGs data, a function named 'calc_overlap_list' to perform the analysis"
      ],
      "execution_count": 12,
      "outputs": [
        {
          "output_type": "stream",
          "text": [
            "Warning message in load(url(\"https://raw.githubusercontent.com/OSU-BMBL/scread-protocol/master/overlapping_genes/scread_db3.rdata\")):\n",
            "“cannot open URL 'https://raw.githubusercontent.com/OSU-BMBL/scread-protocol/master/overlapping_genes/scread_db3.rdata': HTTP status was '404 Not Found'”\n",
            "Failed to load data from GitHub , trying alternative server...\n",
            "\n",
            "Warning message in load(url(\"https://bmbl.bmi.osumc.edu/downloadFiles/scread/protocol/scread_db.rdata\")):\n",
            "“input string '10<96>12 months' cannot be translated to UTF-8, is it valid in 'CP936'?”\n"
          ],
          "name": "stderr"
        }
      ]
    },
    {
      "cell_type": "markdown",
      "metadata": {
        "id": "ZIkp3_h07l7S"
      },
      "source": [
        "## 3. Specify parameters settings \r\n",
        "\r\n",
        "To calculate overlapping genes, these parameters are needed:\r\n",
        "\r\n",
        "- The number of top genes in each AD vs control DE results (default=100)\r\n",
        "\r\n",
        "- Species (default=Human)\r\n",
        "\r\n",
        "- Brain region (e.g,Entorhinal Cortex)\r\n",
        "\r\n",
        "- DE direction (e.g, up)\r\n",
        "\r\n",
        "- Overlap threshold (for example, a gene is an overlapping gene if a should at least appeared 3 times in total 4 comparisons. Here the threshold=3)\r\n",
        "\r\n",
        "By default two tables will be generated: \r\n",
        "\r\n",
        "1. The overlapping genes in the selected brain region\r\n",
        "\r\n",
        "2. The detailed information, including rankings, log-foldchange, dataset source information from the overlapping genes\r\n"
      ]
    },
    {
      "cell_type": "markdown",
      "metadata": {
        "id": "c-nzktNu_yre"
      },
      "source": [
        "First, we can process some of our metadata:"
      ]
    },
    {
      "cell_type": "code",
      "metadata": {
        "id": "7aHHOpSM7jay"
      },
      "source": [
        "REGION_LIST <- sort(unique(dataset$region))\r\n",
        "CT_LIST <- sort(unique(cell_type_meta$cell_type))\r\n",
        "CT_SHORT_LIST <- CT_LIST\r\n",
        "CT_SHORT_LIST[CT_LIST==\"Oligodendrocyte precursor cells\"] <- \"opc\"\r\n",
        "CT_SHORT_LIST <- tolower(substr(CT_SHORT_LIST, 1, 3))\r\n"
      ],
      "execution_count": 14,
      "outputs": []
    },
    {
      "cell_type": "markdown",
      "metadata": {
        "id": "cPvxs1VB9GG1"
      },
      "source": [
        "We can take a look at what brain regions, cell types, and cell types abbrevations are included in scREAD:"
      ]
    },
    {
      "cell_type": "code",
      "metadata": {
        "colab": {
          "base_uri": "https://localhost:8080/",
          "height": 146
        },
        "id": "u7apTqrN9TK4",
        "outputId": "431e8545-518f-49a6-f08a-ac9e845512c5"
      },
      "source": [
        "list(brain_region=REGION_LIST, cell_type=CT_LIST, short_name=CT_SHORT_LIST)"
      ],
      "execution_count": 15,
      "outputs": [
        {
          "output_type": "display_data",
          "data": {
            "text/plain": [
              "$brain_region\n",
              " [1] \"Cerebellum\"                          \"Cerebral cortex\"                    \n",
              " [3] \"Cortex\"                              \"Cortex and hippocampus\"             \n",
              " [5] \"Entorhinal Cortex\"                   \"Hippocampus\"                        \n",
              " [7] \"Prefrontal cortex\"                   \"Subventricular zone and hippocampus\"\n",
              " [9] \"Superior frontal gyrus (BA8)\"        \"Superior parietal lobe\"             \n",
              "\n",
              "$cell_type\n",
              "[1] \"Astrocytes\"                      \"Endothelial cells\"              \n",
              "[3] \"Excitatory neurons\"              \"Inhibitory neurons\"             \n",
              "[5] \"Microglia\"                       \"Oligodendrocyte precursor cells\"\n",
              "[7] \"Oligodendrocytes\"               \n",
              "\n",
              "$short_name\n",
              "[1] \"ast\" \"end\" \"exc\" \"inh\" \"mic\" \"opc\" \"oli\"\n"
            ],
            "text/latex": "\\begin{description}\n\\item[\\$brain\\_region] \\begin{enumerate*}\n\\item 'Cerebellum'\n\\item 'Cerebral cortex'\n\\item 'Cortex'\n\\item 'Cortex and hippocampus'\n\\item 'Entorhinal Cortex'\n\\item 'Hippocampus'\n\\item 'Prefrontal cortex'\n\\item 'Subventricular zone and hippocampus'\n\\item 'Superior frontal gyrus (BA8)'\n\\item 'Superior parietal lobe'\n\\end{enumerate*}\n\n\\item[\\$cell\\_type] \\begin{enumerate*}\n\\item 'Astrocytes'\n\\item 'Endothelial cells'\n\\item 'Excitatory neurons'\n\\item 'Inhibitory neurons'\n\\item 'Microglia'\n\\item 'Oligodendrocyte precursor cells'\n\\item 'Oligodendrocytes'\n\\end{enumerate*}\n\n\\item[\\$short\\_name] \\begin{enumerate*}\n\\item 'ast'\n\\item 'end'\n\\item 'exc'\n\\item 'inh'\n\\item 'mic'\n\\item 'opc'\n\\item 'oli'\n\\end{enumerate*}\n\n\\end{description}\n",
            "text/markdown": "$brain_region\n:   1. 'Cerebellum'\n2. 'Cerebral cortex'\n3. 'Cortex'\n4. 'Cortex and hippocampus'\n5. 'Entorhinal Cortex'\n6. 'Hippocampus'\n7. 'Prefrontal cortex'\n8. 'Subventricular zone and hippocampus'\n9. 'Superior frontal gyrus (BA8)'\n10. 'Superior parietal lobe'\n\n\n\n$cell_type\n:   1. 'Astrocytes'\n2. 'Endothelial cells'\n3. 'Excitatory neurons'\n4. 'Inhibitory neurons'\n5. 'Microglia'\n6. 'Oligodendrocyte precursor cells'\n7. 'Oligodendrocytes'\n\n\n\n$short_name\n:   1. 'ast'\n2. 'end'\n3. 'exc'\n4. 'inh'\n5. 'mic'\n6. 'opc'\n7. 'oli'\n\n\n\n\n\n",
            "text/html": [
              "<dl>\n",
              "\t<dt>$brain_region</dt>\n",
              "\t\t<dd><style>\n",
              ".list-inline {list-style: none; margin:0; padding: 0}\n",
              ".list-inline>li {display: inline-block}\n",
              ".list-inline>li:not(:last-child)::after {content: \"\\00b7\"; padding: 0 .5ex}\n",
              "</style>\n",
              "<ol class=list-inline><li>'Cerebellum'</li><li>'Cerebral cortex'</li><li>'Cortex'</li><li>'Cortex and hippocampus'</li><li>'Entorhinal Cortex'</li><li>'Hippocampus'</li><li>'Prefrontal cortex'</li><li>'Subventricular zone and hippocampus'</li><li>'Superior frontal gyrus (BA8)'</li><li>'Superior parietal lobe'</li></ol>\n",
              "</dd>\n",
              "\t<dt>$cell_type</dt>\n",
              "\t\t<dd><style>\n",
              ".list-inline {list-style: none; margin:0; padding: 0}\n",
              ".list-inline>li {display: inline-block}\n",
              ".list-inline>li:not(:last-child)::after {content: \"\\00b7\"; padding: 0 .5ex}\n",
              "</style>\n",
              "<ol class=list-inline><li>'Astrocytes'</li><li>'Endothelial cells'</li><li>'Excitatory neurons'</li><li>'Inhibitory neurons'</li><li>'Microglia'</li><li>'Oligodendrocyte precursor cells'</li><li>'Oligodendrocytes'</li></ol>\n",
              "</dd>\n",
              "\t<dt>$short_name</dt>\n",
              "\t\t<dd><style>\n",
              ".list-inline {list-style: none; margin:0; padding: 0}\n",
              ".list-inline>li {display: inline-block}\n",
              ".list-inline>li:not(:last-child)::after {content: \"\\00b7\"; padding: 0 .5ex}\n",
              "</style>\n",
              "<ol class=list-inline><li>'ast'</li><li>'end'</li><li>'exc'</li><li>'inh'</li><li>'mic'</li><li>'opc'</li><li>'oli'</li></ol>\n",
              "</dd>\n",
              "</dl>\n"
            ]
          },
          "metadata": {
            "tags": []
          }
        }
      ]
    },
    {
      "cell_type": "markdown",
      "metadata": {
        "id": "r_swFi5J9p1t"
      },
      "source": [
        "Below are the necessary settings in order to calculate the overlapping genes. **Feel free to change these parameters**!"
      ]
    },
    {
      "cell_type": "code",
      "metadata": {
        "id": "Qn9pXpOQ7sp3"
      },
      "source": [
        "# We use top 100 DE genes in each AD vs control comparison\r\n",
        "TOP <- 100\r\n",
        "\r\n",
        "# Species should be either 'Human' or 'Mouse'\r\n",
        "this_species <- 'Human'\r\n",
        "\r\n",
        "# Specify our brain region of interest, here we selected the 5th brain region in REGION_LIST variable, i.e, Entorhinal Cortex'\r\n",
        "this_region <- REGION_LIST[5]\r\n",
        "\r\n",
        "# DE direction should either 'up' or 'down', 'up' means we select DE genes that are expessed higher in the disease dataset (the first group)\r\n",
        "this_direction <- 'up'\r\n",
        "\r\n",
        "# The OVERLAP_THRES should be manually defined based on your interest and total number of comparisons in scREAD. \r\n",
        "# For example, scREAD have 4 total AD vs control datasets comparisons, we set the threshold to 3, meaning that we want to find overlapping genes that are at least appeared in 3 comparisons\r\n",
        "OVERLAP_THRES <- 3\r\n",
        "\r\n",
        "# Now, we can calculate the overlapping genes based on the parameters above, the results are stored in a list variable:\r\n",
        "result <- calc_overlap_list()\r\n"
      ],
      "execution_count": 16,
      "outputs": []
    },
    {
      "cell_type": "markdown",
      "metadata": {
        "id": "LC2425wECC06"
      },
      "source": [
        "## 4. Interpret the result table\r\n",
        "\r\n",
        "### 1. Overlapping DEGs among cell types"
      ]
    },
    {
      "cell_type": "markdown",
      "metadata": {
        "id": "jEClGE0iCxec"
      },
      "source": [
        "If you are using the default settings, the second row in the table below can be interpreted as:\r\n",
        "\r\n",
        "'For all AD vs control datasets comparisons in Human Entorhinal Cortex Astrocytes (ast), the *GFAP* gene ranked top 100 by log-foldchange values in at least 3 comparisons'.\r\n"
      ]
    },
    {
      "cell_type": "code",
      "metadata": {
        "colab": {
          "base_uri": "https://localhost:8080/",
          "height": 298
        },
        "id": "uxfH6jTZ8NTX",
        "outputId": "695d5d4f-4308-4a8c-fae8-dfc8cb01a8f0"
      },
      "source": [
        "kable(result$list)"
      ],
      "execution_count": 17,
      "outputs": [
        {
          "output_type": "display_data",
          "data": {
            "text/plain": [
              "\n",
              "\n",
              "|ct          |gene      |\n",
              "|:-----------|:---------|\n",
              "|ast,mic,oli |NEAT1     |\n",
              "|ast         |ITGB4     |\n",
              "|ast         |HSPA1B    |\n",
              "|ast         |GFAP      |\n",
              "|end         |IFITM3    |\n",
              "|end         |IFITM2    |\n",
              "|exc         |PLP1      |\n",
              "|exc         |FTH1      |\n",
              "|mic         |SPP1      |\n",
              "|mic         |DPYD      |\n",
              "|mic         |ACSL1     |\n",
              "|oli         |LINC00486 |"
            ]
          },
          "metadata": {
            "tags": []
          }
        }
      ]
    },
    {
      "cell_type": "markdown",
      "metadata": {
        "id": "eq2HECA1COmb"
      },
      "source": [
        "### 2. The details of the overlapping gene from all cell types"
      ]
    },
    {
      "cell_type": "markdown",
      "metadata": {
        "id": "PXhbVDSAERwS"
      },
      "source": [
        "The table below shows the details of the overlapping genes. "
      ]
    },
    {
      "cell_type": "code",
      "metadata": {
        "colab": {
          "base_uri": "https://localhost:8080/",
          "height": 862
        },
        "id": "J8TFoML073Ie",
        "outputId": "1a4e4e59-11ff-4fb0-e7f8-28e7e0eb253a"
      },
      "source": [
        "kable(result$rank[,c(1:6,9)])"
      ],
      "execution_count": 18,
      "outputs": [
        {
          "output_type": "display_data",
          "data": {
            "text/plain": [
              "\n",
              "\n",
              "|ct  |gene      | avg_logFC|disease_id |control_id |rank | mean_rank|\n",
              "|:---|:---------|---------:|:----------|:----------|:----|---------:|\n",
              "|mic |ACSL1     |  1.295940|AD00203    |AD00201    |19   | 27.000000|\n",
              "|mic |ACSL1     |  0.557061|AD00205    |AD00201    |52   | 27.000000|\n",
              "|mic |ACSL1     |  1.650250|AD00206    |AD00201    |10   | 27.000000|\n",
              "|mic |DPYD      |  1.822040|AD00203    |AD00201    |4    |  9.500000|\n",
              "|mic |DPYD      |  1.536450|AD00204    |AD00202    |3    |  9.500000|\n",
              "|mic |DPYD      |  0.910131|AD00205    |AD00201    |24   |  9.500000|\n",
              "|mic |DPYD      |  1.188850|AD00206    |AD00201    |7    |  9.500000|\n",
              "|exc |FTH1      |  1.749390|AD00203    |AD00201    |16   | 12.000000|\n",
              "|exc |FTH1      |  0.673986|AD00205    |AD00201    |15   | 12.000000|\n",
              "|exc |FTH1      |  1.201300|AD00206    |AD00201    |5    | 12.000000|\n",
              "|ast |GFAP      |  1.217740|AD00203    |AD00201    |8    | 13.333333|\n",
              "|ast |GFAP      |  1.080320|AD00204    |AD00202    |4    | 13.333333|\n",
              "|ast |GFAP      |  0.553044|AD00206    |AD00201    |28   | 13.333333|\n",
              "|ast |HSPA1B    |  1.369810|AD00203    |AD00201    |22   | 39.000000|\n",
              "|ast |HSPA1B    |  0.745331|AD00205    |AD00201    |30   | 39.000000|\n",
              "|ast |HSPA1B    |  0.987627|AD00206    |AD00201    |65   | 39.000000|\n",
              "|end |IFITM2    |  1.377880|AD00203    |AD00201    |23   | 60.000000|\n",
              "|end |IFITM2    |  0.942100|AD00205    |AD00201    |95   | 60.000000|\n",
              "|end |IFITM2    |  1.093290|AD00206    |AD00201    |62   | 60.000000|\n",
              "|end |IFITM3    |  1.477250|AD00203    |AD00201    |12   | 21.333333|\n",
              "|end |IFITM3    |  1.261220|AD00205    |AD00201    |9    | 21.333333|\n",
              "|end |IFITM3    |  0.888270|AD00206    |AD00201    |43   | 21.333333|\n",
              "|ast |ITGB4     |  0.866848|AD00203    |AD00201    |66   | 47.333333|\n",
              "|ast |ITGB4     |  0.807770|AD00204    |AD00202    |36   | 47.333333|\n",
              "|ast |ITGB4     |  0.532055|AD00205    |AD00201    |40   | 47.333333|\n",
              "|oli |LINC00486 |  1.285020|AD00203    |AD00201    |6    | 10.000000|\n",
              "|oli |LINC00486 |  0.543539|AD00204    |AD00202    |7    | 10.000000|\n",
              "|oli |LINC00486 |  0.639483|AD00205    |AD00201    |17   | 10.000000|\n",
              "|oli |NEAT1     |  0.798519|AD00203    |AD00201    |24   | 13.600000|\n",
              "|oli |NEAT1     |  1.949210|AD00204    |AD00202    |1    | 13.600000|\n",
              "|oli |NEAT1     |  0.521790|AD00205    |AD00201    |47   | 13.600000|\n",
              "|mic |NEAT1     |  0.859384|AD00203    |AD00201    |17   | 13.600000|\n",
              "|mic |NEAT1     |  1.041330|AD00204    |AD00202    |4    | 13.600000|\n",
              "|mic |NEAT1     |  0.507087|AD00205    |AD00201    |21   | 13.600000|\n",
              "|ast |NEAT1     |  1.275860|AD00203    |AD00201    |3    | 13.600000|\n",
              "|ast |NEAT1     |  1.653700|AD00204    |AD00202    |1    | 13.600000|\n",
              "|ast |NEAT1     |  0.580371|AD00205    |AD00201    |5    | 13.600000|\n",
              "|ast |NEAT1     |  0.759543|AD00206    |AD00201    |13   | 13.600000|\n",
              "|exc |PLP1      |  2.695190|AD00203    |AD00201    |4    |  9.333333|\n",
              "|exc |PLP1      |  0.825406|AD00205    |AD00201    |5    |  9.333333|\n",
              "|exc |PLP1      |  0.990474|AD00206    |AD00201    |19   |  9.333333|\n",
              "|mic |SPP1      |  1.285540|AD00203    |AD00201    |10   | 23.666667|\n",
              "|mic |SPP1      |  0.578141|AD00204    |AD00202    |8    | 23.666667|\n",
              "|mic |SPP1      |  0.805587|AD00206    |AD00201    |53   | 23.666667|"
            ]
          },
          "metadata": {
            "tags": []
          }
        }
      ]
    },
    {
      "cell_type": "markdown",
      "metadata": {
        "id": "NkYnVvgSFnOy"
      },
      "source": [
        "Take *GFAP* gene as an example, we know *GFAP* is an overlapping gene in Human Entorhinal Cortex Astrocytes. From the section of the table below, we know the *GFAP* ranked top 100 in 3 comparisons of 4 total comparisons, the mean rank of the gene is 13, and the average log-foldchanges of *GFAP* in each comparisons are also listed. "
      ]
    },
    {
      "cell_type": "code",
      "metadata": {
        "id": "-HmI8O-0Fl28"
      },
      "source": [
        "#|ct  |gene      | avg_logFC|disease_id |control_id |rank | overlapping_comparison| total_comparison| mean_rank|\r\n",
        "#|:---|:---------|---------:|:----------|:----------|:----|----------------------:|----------------:|---------:|\r\n",
        "#|ast |GFAP      |  1.217740|AD00203    |AD00201    |8    |                      3|                4| 13.333333|\r\n",
        "#|ast |GFAP      |  1.080320|AD00204    |AD00202    |4    |                      3|                4| 13.333333|\r\n",
        "#|ast |GFAP      |  0.553044|AD00206    |AD00201    |28   |                      3|                4| 13.333333|"
      ],
      "execution_count": 19,
      "outputs": []
    }
  ]
}